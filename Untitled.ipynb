{
 "cells": [
  {
   "cell_type": "code",
   "execution_count": 1,
   "id": "b102c1e1-12bf-4b08-9dd7-7e1e42de132c",
   "metadata": {},
   "outputs": [],
   "source": [
    "from dna_features_viewer import BiopythonTranslator\n",
    "\n",
    "graphic_record = BiopythonTranslator().translate_record(\"./gene_neighborhood.gff\")\n",
    "\n",
    "ax, _ = graphic_record.plot(figure_width=10, strand_in_label_threshold=7)"
   ]
  },
  {
   "cell_type": "code",
   "execution_count": 5,
   "id": "8eeb04f0-9ec7-4e03-8aaa-3417f6700c4e",
   "metadata": {},
   "outputs": [
    {
     "ename": "ValueError",
     "evalue": "invalid literal for int() with base 10: ''",
     "output_type": "error",
     "traceback": [
      "\u001b[31m---------------------------------------------------------------------------\u001b[39m",
      "\u001b[31mValueError\u001b[39m                                Traceback (most recent call last)",
      "\u001b[36mCell\u001b[39m\u001b[36m \u001b[39m\u001b[32mIn[5]\u001b[39m\u001b[32m, line 21\u001b[39m\n\u001b[32m     12\u001b[39m graphic_record.plot(ax=ax, with_ruler=\u001b[38;5;28;01mFalse\u001b[39;00m, strand_in_label_threshold=\u001b[32m4\u001b[39m)\n\u001b[32m     14\u001b[39m \u001b[38;5;66;03m# PLOT THE LOCAL GC CONTENT (we use 50bp windows)\u001b[39;00m\n\u001b[32m     15\u001b[39m \u001b[38;5;66;03m#gc = lambda s: 100.0 * len([c for c in s if c in \"GC\"]) / 50\u001b[39;00m\n\u001b[32m     16\u001b[39m \u001b[38;5;66;03m#xx = np.arange(len(record.seq) - 50)\u001b[39;00m\n\u001b[32m   (...)\u001b[39m\u001b[32m     19\u001b[39m \u001b[38;5;66;03m#ax2.set_ylim(bottom=0)\u001b[39;00m\n\u001b[32m     20\u001b[39m \u001b[38;5;66;03m#ax2.set_ylabel(\"GC(%)\")\u001b[39;00m\n\u001b[32m---> \u001b[39m\u001b[32m21\u001b[39m \u001b[43mplt\u001b[49m\u001b[43m.\u001b[49m\u001b[43mshow\u001b[49m\u001b[43m(\u001b[49m\u001b[43m)\u001b[49m\n",
      "\u001b[36mFile \u001b[39m\u001b[32m~/micromamba/envs/plots/lib/python3.13/site-packages/matplotlib/pyplot.py:614\u001b[39m, in \u001b[36mshow\u001b[39m\u001b[34m(*args, **kwargs)\u001b[39m\n\u001b[32m    570\u001b[39m \u001b[38;5;250m\u001b[39m\u001b[33;03m\"\"\"\u001b[39;00m\n\u001b[32m    571\u001b[39m \u001b[33;03mDisplay all open figures.\u001b[39;00m\n\u001b[32m    572\u001b[39m \n\u001b[32m   (...)\u001b[39m\u001b[32m    611\u001b[39m \u001b[33;03mexplicitly there.\u001b[39;00m\n\u001b[32m    612\u001b[39m \u001b[33;03m\"\"\"\u001b[39;00m\n\u001b[32m    613\u001b[39m _warn_if_gui_out_of_main_thread()\n\u001b[32m--> \u001b[39m\u001b[32m614\u001b[39m \u001b[38;5;28;01mreturn\u001b[39;00m \u001b[43m_get_backend_mod\u001b[49m\u001b[43m(\u001b[49m\u001b[43m)\u001b[49m\u001b[43m.\u001b[49m\u001b[43mshow\u001b[49m\u001b[43m(\u001b[49m\u001b[43m*\u001b[49m\u001b[43margs\u001b[49m\u001b[43m,\u001b[49m\u001b[43m \u001b[49m\u001b[43m*\u001b[49m\u001b[43m*\u001b[49m\u001b[43mkwargs\u001b[49m\u001b[43m)\u001b[49m\n",
      "\u001b[36mFile \u001b[39m\u001b[32m~/.local/lib/python3.13/site-packages/matplotlib-backend-kitty/__init__.py:87\u001b[39m, in \u001b[36m_BackendICatAgg.show\u001b[39m\u001b[34m(cls, *args, **kwargs)\u001b[39m\n\u001b[32m     85\u001b[39m \u001b[38;5;129m@classmethod\u001b[39m\n\u001b[32m     86\u001b[39m \u001b[38;5;28;01mdef\u001b[39;00m\u001b[38;5;250m \u001b[39m\u001b[34mshow\u001b[39m(\u001b[38;5;28mcls\u001b[39m, *args, **kwargs):\n\u001b[32m---> \u001b[39m\u001b[32m87\u001b[39m     \u001b[43m_Backend\u001b[49m\u001b[43m.\u001b[49m\u001b[43mshow\u001b[49m\u001b[43m(\u001b[49m\u001b[43m*\u001b[49m\u001b[43margs\u001b[49m\u001b[43m,\u001b[49m\u001b[43m \u001b[49m\u001b[43m*\u001b[49m\u001b[43m*\u001b[49m\u001b[43mkwargs\u001b[49m\u001b[43m)\u001b[49m\n\u001b[32m     88\u001b[39m     Gcf.destroy_all()\n",
      "\u001b[36mFile \u001b[39m\u001b[32m~/micromamba/envs/plots/lib/python3.13/site-packages/matplotlib/backend_bases.py:3534\u001b[39m, in \u001b[36m_Backend.show\u001b[39m\u001b[34m(cls, block)\u001b[39m\n\u001b[32m   3532\u001b[39m \u001b[38;5;28;01mfor\u001b[39;00m manager \u001b[38;5;129;01min\u001b[39;00m managers:\n\u001b[32m   3533\u001b[39m     \u001b[38;5;28;01mtry\u001b[39;00m:\n\u001b[32m-> \u001b[39m\u001b[32m3534\u001b[39m         \u001b[43mmanager\u001b[49m\u001b[43m.\u001b[49m\u001b[43mshow\u001b[49m\u001b[43m(\u001b[49m\u001b[43m)\u001b[49m  \u001b[38;5;66;03m# Emits a warning for non-interactive backend.\u001b[39;00m\n\u001b[32m   3535\u001b[39m     \u001b[38;5;28;01mexcept\u001b[39;00m NonGuiException \u001b[38;5;28;01mas\u001b[39;00m exc:\n\u001b[32m   3536\u001b[39m         _api.warn_external(\u001b[38;5;28mstr\u001b[39m(exc))\n",
      "\u001b[36mFile \u001b[39m\u001b[32m~/.local/lib/python3.13/site-packages/matplotlib-backend-kitty/__init__.py:44\u001b[39m, in \u001b[36mFigureManagerICat.show\u001b[39m\u001b[34m(self)\u001b[39m\n\u001b[32m     42\u001b[39m rows = \u001b[38;5;28mint\u001b[39m(tput(\u001b[33m'\u001b[39m\u001b[33mlines\u001b[39m\u001b[33m'\u001b[39m))\n\u001b[32m     43\u001b[39m px = icat(\u001b[33m'\u001b[39m\u001b[33m--print-window-size\u001b[39m\u001b[33m'\u001b[39m)\n\u001b[32m---> \u001b[39m\u001b[32m44\u001b[39m px = \u001b[38;5;28;43mlist\u001b[39;49m\u001b[43m(\u001b[49m\u001b[38;5;28;43mmap\u001b[39;49m\u001b[43m(\u001b[49m\u001b[38;5;28;43mint\u001b[39;49m\u001b[43m,\u001b[49m\u001b[43m \u001b[49m\u001b[43mpx\u001b[49m\u001b[43m.\u001b[49m\u001b[43msplit\u001b[49m\u001b[43m(\u001b[49m\u001b[33;43m'\u001b[39;49m\u001b[33;43mx\u001b[39;49m\u001b[33;43m'\u001b[39;49m\u001b[43m)\u001b[49m\u001b[43m)\u001b[49m\u001b[43m)\u001b[49m\n\u001b[32m     46\u001b[39m \u001b[38;5;66;03m# account for post-display prompt scrolling\u001b[39;00m\n\u001b[32m     47\u001b[39m \u001b[38;5;66;03m# 3 line shift for [\\n, <matplotlib.axes…, >>>] after the figure\u001b[39;00m\n\u001b[32m     48\u001b[39m px[\u001b[32m1\u001b[39m] -= \u001b[38;5;28mint\u001b[39m(\u001b[32m3\u001b[39m*(px[\u001b[32m1\u001b[39m]/rows))\n",
      "\u001b[31mValueError\u001b[39m: invalid literal for int() with base 10: ''"
     ]
    }
   ],
   "source": [
    "import matplotlib.pyplot as plt\n",
    "from dna_features_viewer import BiopythonTranslator\n",
    "from Bio import SeqIO\n",
    "import numpy as np\n",
    "\n",
    "fig, ax = plt.subplots(figsize=(12, 3))\n",
    "\n",
    "# PLOT THE RECORD MAP\n",
    "graphic_record = BiopythonTranslator().translate_record(\"./gene_neighborhood.gff\")\n",
    "#record = SeqIO.read()\n",
    "#graphic_record = BiopythonTranslator().translate_record(record)\n",
    "graphic_record.plot(ax=ax, with_ruler=False, strand_in_label_threshold=4)\n",
    "\n",
    "# PLOT THE LOCAL GC CONTENT (we use 50bp windows)\n",
    "#gc = lambda s: 100.0 * len([c for c in s if c in \"GC\"]) / 50\n",
    "#xx = np.arange(len(record.seq) - 50)\n",
    "#yy = [gc(record.seq[x : x + 50]) for x in xx]\n",
    "#ax2.fill_between(xx + 25, yy, alpha=0.3)\n",
    "#ax2.set_ylim(bottom=0)\n",
    "#ax2.set_ylabel(\"GC(%)\")\n",
    "plt.show()"
   ]
  },
  {
   "cell_type": "code",
   "execution_count": 9,
   "id": "0fdd65a4-31c7-4c52-9fa8-6648bcb36135",
   "metadata": {},
   "outputs": [],
   "source": [
    "from dna_features_viewer import BiopythonTranslator\n",
    "import matplotlib.pyplot as plt\n",
    "\n",
    "graphic_record = BiopythonTranslator().translate_record(\"./gene_neighborhood.gff\")\n",
    "\n",
    "fig, ax = plt.subplots()\n",
    "ax, _ = graphic_record.plot(figure_width=10)\n",
    "ax.figure.tight_layout()\n",
    "#ax.figure.savefig(\"test.png\")"
   ]
  },
  {
   "cell_type": "code",
   "execution_count": null,
   "id": "356e37e5-2a73-44b0-a017-d5700844acb4",
   "metadata": {},
   "outputs": [],
   "source": [
    "from dna_features_viewer import BiopythonTranslator\n",
    "import matplotlib.pyplot as plt\n",
    "import bokeh\n",
    "\n",
    "graphic_record = BiopythonTranslator().translate_record(\"./gene_neighborhood.gff\")\n",
    "\n",
    "ax, _ = graphic_record.plot_with_bokeh(figure_width=10)\n",
    "ax.figure.tight_layout()"
   ]
  },
  {
   "cell_type": "code",
   "execution_count": null,
   "id": "5394ef95-07b1-4368-aa13-a81932afb59e",
   "metadata": {},
   "outputs": [],
   "source": []
  }
 ],
 "metadata": {
  "kernelspec": {
   "display_name": "simple_plots",
   "language": "python",
   "name": "plots"
  },
  "language_info": {
   "codemirror_mode": {
    "name": "ipython",
    "version": 3
   },
   "file_extension": ".py",
   "mimetype": "text/x-python",
   "name": "python",
   "nbconvert_exporter": "python",
   "pygments_lexer": "ipython3",
   "version": "3.13.3"
  }
 },
 "nbformat": 4,
 "nbformat_minor": 5
}
